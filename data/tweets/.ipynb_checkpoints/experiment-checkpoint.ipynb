{
 "cells": [
  {
   "cell_type": "code",
   "execution_count": 1,
   "metadata": {},
   "outputs": [],
   "source": [
    "import pandas as pd\n",
    "import string\n",
    "import os\n",
    "import nltk\n",
    "from nltk import sent_tokenize, word_tokenize"
   ]
  },
  {
   "cell_type": "code",
   "execution_count": 2,
   "metadata": {},
   "outputs": [],
   "source": [
    "csv_path = \"./tweets.csv\"\n",
    "txt_path = \"./tweets.txt\"\n",
    "dict_path = \"./tweet_word.vocab\""
   ]
  },
  {
   "cell_type": "code",
   "execution_count": 3,
   "metadata": {},
   "outputs": [],
   "source": [
    "data = pd.read_csv(csv_path, engine='python').replace('\\r\\n', '', regex=True)\n",
    "data['text'] = data['text'].fillna(\"\").map(nltk.word_tokenize)\n",
    "text = data.loc[:, 'text']"
   ]
  },
  {
   "cell_type": "code",
   "execution_count": 4,
   "metadata": {},
   "outputs": [],
   "source": [
    "with open(txt_path, 'a') as file:\n",
    "    for i in range(len(text)):\n",
    "        if len(text[i]) <= 20:\n",
    "            line = ' '.join(text[i])\n",
    "            file.write(f'{line}\\n')"
   ]
  },
  {
   "cell_type": "code",
   "execution_count": 5,
   "metadata": {},
   "outputs": [
    {
     "name": "stdout",
     "output_type": "stream",
     "text": [
      "Now produce ./tweets.txt\n",
      "Get word_dict success: 299696 words\n",
      "build dict finished!\n"
     ]
    }
   ],
   "source": [
    "def buid_dict_file(file_list, dict_file, max_num=5):\n",
    "    word_dict = {}\n",
    "    for file in file_list:\n",
    "        print(\"Now produce %s\" % file)\n",
    "        with open(file, 'r') as f:\n",
    "            for ll in f:\n",
    "                words = ll.strip().split(' ')\n",
    "                for word in words:\n",
    "                    if word in word_dict:\n",
    "                        word_dict[word] += 1\n",
    "                    else:\n",
    "                        word_dict[word] = 1\n",
    "    print(\"Get word_dict success: {} words\".format(len(word_dict)))\n",
    "\n",
    "    word_dict_list = sorted(word_dict.items(), key=lambda d: d[1], reverse=True)\n",
    "    with open(dict_file, 'w') as f:\n",
    "        f.write(\"<PAD>\\n\")\n",
    "        f.write(\"<UNK>\\n\")\n",
    "        f.write(\"<EOS>\\n\")\n",
    "        f.write(\"<GO>\\n\")\n",
    "        _num = 0\n",
    "        for ii in word_dict_list:\n",
    "            _num = int(ii[1])\n",
    "            if _num < max_num:\n",
    "                break\n",
    "            # f.write(\"%s  %d\\n\" % (str(ii[0]), ii[1]))\n",
    "            f.write(f\"{str(ii[0])}\\n\")\n",
    "    print(\"build dict finished!\")\n",
    "    return\n",
    "\n",
    "file_list = [\"./tweets.txt\"]\n",
    "buid_dict_file(file_list, dict_path)"
   ]
  },
  {
   "cell_type": "code",
   "execution_count": 6,
   "metadata": {},
   "outputs": [
    {
     "name": "stdout",
     "output_type": "stream",
     "text": [
      "Load embedding success! Num: 38063\n",
      "produce ./tweets.txt \n",
      "build file ./tweets.id success!\n",
      "build id file finished!\n"
     ]
    }
   ],
   "source": [
    "def load_dic(dic_file):\n",
    "    word_dict = {}\n",
    "    item = 0\n",
    "    with open(dic_file, 'r') as f:\n",
    "        lines = f.readlines()\n",
    "        for line in lines:\n",
    "            word = line.strip()\n",
    "            word_dict[word] = item\n",
    "            item += 1\n",
    "    print(\"Load embedding success! Num: {}\".format(len(word_dict)))\n",
    "    return word_dict\n",
    "\n",
    "def build_id_file(word_dict, file_list):\n",
    "    for file in file_list:\n",
    "        print(\"produce {} \".format(file))\n",
    "        id_file = '.' + file.split('.')[1] + '.id'\n",
    "        with open(id_file, 'w') as f_o:\n",
    "            with open(file, 'r') as f_i:\n",
    "                for line_text in f_i:\n",
    "                    line_o = []\n",
    "                    line_list = line_text.strip().split(' ')\n",
    "                    for word in line_list:\n",
    "                        if word in word_dict:\n",
    "                            line_o.append(word_dict[word])\n",
    "                        else:\n",
    "                            line_o.append(word_dict['<UNK>'])\n",
    "                    line_o = ' '.join([str(ii) for ii in line_o]) + '\\n'\n",
    "                    f_o.write(line_o)\n",
    "        print(\"build file {} success!\".format(id_file))\n",
    "    print(\"build id file finished!\")\n",
    "    \n",
    "word_dict = load_dic(dict_path)\n",
    "build_id_file(word_dict, file_list)"
   ]
  },
  {
   "cell_type": "code",
   "execution_count": 9,
   "metadata": {},
   "outputs": [],
   "source": [
    "l = [len(sen) for sen in text]"
   ]
  },
  {
   "cell_type": "code",
   "execution_count": 14,
   "metadata": {},
   "outputs": [
    {
     "data": {
      "text/plain": [
       "20.110984954608234"
      ]
     },
     "execution_count": 14,
     "metadata": {},
     "output_type": "execute_result"
    }
   ],
   "source": [
    "sum(l)/len(l)"
   ]
  }
 ],
 "metadata": {
  "kernelspec": {
   "display_name": "Python 3",
   "language": "python",
   "name": "python3"
  },
  "language_info": {
   "codemirror_mode": {
    "name": "ipython",
    "version": 3
   },
   "file_extension": ".py",
   "mimetype": "text/x-python",
   "name": "python",
   "nbconvert_exporter": "python",
   "pygments_lexer": "ipython3",
   "version": "3.7.6"
  }
 },
 "nbformat": 4,
 "nbformat_minor": 4
}
