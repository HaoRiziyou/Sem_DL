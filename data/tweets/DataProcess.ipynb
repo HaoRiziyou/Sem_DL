{
 "cells": [
  {
   "cell_type": "code",
   "execution_count": 1,
   "metadata": {},
   "outputs": [],
   "source": [
    "import pandas as pd\n",
    "import nltk\n",
    "import tweepy\n",
    "from dataproc import *\n",
    "from nltk import word_tokenize"
   ]
  },
  {
   "cell_type": "code",
   "execution_count": 2,
   "metadata": {},
   "outputs": [],
   "source": [
    "topic = 'kobebryant' # 'kobebryant'\n",
    "date = \"2020-01-01\""
   ]
  },
  {
   "cell_type": "code",
   "execution_count": 3,
   "metadata": {},
   "outputs": [
    {
     "name": "stdout",
     "output_type": "stream",
     "text": [
      "Authentication OK\n"
     ]
    }
   ],
   "source": [
    "get_tweets(topic, date, 1000)"
   ]
  },
  {
   "cell_type": "code",
   "execution_count": 4,
   "metadata": {},
   "outputs": [],
   "source": [
    "csv_path = \"./\" + topic + \".csv\"\n",
    "txt_path = \"./\" + topic + \".txt\"\n",
    "dict_path = \"./\" + topic + \".vocab\"\n",
    "\n",
    "data = pd.read_csv(csv_path, engine='python').replace('\\r\\n', '', regex=True)\n",
    "data['text'] = data['text'].fillna(\"\").map(nltk.word_tokenize)\n",
    "text = data.loc[:, 'text']"
   ]
  },
  {
   "cell_type": "code",
   "execution_count": 5,
   "metadata": {},
   "outputs": [],
   "source": [
    "with open(txt_path, 'a') as file:\n",
    "    for i in range(len(text)):\n",
    "        if len(text[i]) <= 25:\n",
    "            line = ' '.join(text[i])\n",
    "            file.write(f'{line}\\n')"
   ]
  },
  {
   "cell_type": "code",
   "execution_count": 6,
   "metadata": {},
   "outputs": [
    {
     "name": "stdout",
     "output_type": "stream",
     "text": [
      "Now produce ./kobebryant.txt\n",
      "Get word_dict success: 3519 words\n",
      "build dict finished!\n",
      "Load embedding success! Num: 268\n",
      "produce ./kobebryant.txt \n",
      "build file ./kobebryant.id success!\n",
      "build id file finished!\n"
     ]
    }
   ],
   "source": [
    "file_list = [txt_path]\n",
    "buid_dict_file(file_list, dict_path)\n",
    "\n",
    "word_dict = load_dic(dict_path)\n",
    "build_id_file(word_dict, file_list)"
   ]
  }
 ],
 "metadata": {
  "kernelspec": {
   "display_name": "Python 3",
   "language": "python",
   "name": "python3"
  },
  "language_info": {
   "codemirror_mode": {
    "name": "ipython",
    "version": 3
   },
   "file_extension": ".py",
   "mimetype": "text/x-python",
   "name": "python",
   "nbconvert_exporter": "python",
   "pygments_lexer": "ipython3",
   "version": "3.7.6"
  }
 },
 "nbformat": 4,
 "nbformat_minor": 4
}
