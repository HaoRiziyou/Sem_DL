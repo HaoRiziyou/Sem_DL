{
 "cells": [
  {
   "cell_type": "code",
   "execution_count": null,
   "metadata": {},
   "outputs": [],
   "source": [
    "import tweepy\n",
    "import json\n",
    "import unicodedata\n",
    "import codecs\n",
    "import csv\n",
    "import pandas as pd"
   ]
  },
  {
   "cell_type": "code",
   "execution_count": null,
   "metadata": {},
   "outputs": [],
   "source": [
    "# Authenticate to Twitter\n",
    "auth = tweepy.OAuthHandler(\"6JBDj2M0D8yIvOG06fuFCGvMK\", \n",
    "    \"iEniBK2qIY4tUgRuDgdXYhAO5mZlkrpuknjpcUyK0gYGaXih6p\")\n",
    "auth.set_access_token(\"760083289-jHl79xR2zNooAftuweWLfhMlHeE3iov3LnPaLWkB\", \n",
    "    \"Qg58KEbk9BzFLQovTcRQBnKfrbO9QJcM3IduwPsJsqVVZ\")\n",
    "\n",
    "api = tweepy.API(auth)\n",
    "\n",
    "try:\n",
    "    api.verify_credentials()\n",
    "    print(\"Authentication OK\")\n",
    "except:\n",
    "    print(\"Error during authentication\")"
   ]
  },
  {
   "cell_type": "code",
   "execution_count": null,
   "metadata": {},
   "outputs": [],
   "source": [
    "\n",
    "# Create API object\n",
    "api = tweepy.API(auth, wait_on_rate_limit=True,\n",
    "    wait_on_rate_limit_notify=True)"
   ]
  },
  {
   "cell_type": "code",
   "execution_count": null,
   "metadata": {},
   "outputs": [],
   "source": [
    "#####Kobe\n",
    "# Open/Create a file to append data\n",
    "csvFile = codecs.open('kobe.csv', 'w+','utf-8')\n",
    "#Use csv Writer\n",
    "csvWriter = csv.writer(csvFile,delimiter =' ', quotechar = ' ', quoting = csv.QUOTE_MINIMAL)\n",
    "\n",
    "for tweet in tweepy.Cursor(api.search,q=\"#kobebryant\",count=50,\n",
    "                           lang=\"en\",\n",
    "                           since=\"2017-04-03\").items(400):\n",
    "    print (tweet.created_at, tweet.text)\n",
    "    #unicodedata.normalize('NFKD', tweet.text).encode('ascii','ignore')\n",
    "    csvWriter.writerow([tweet.text])"
   ]
  },
  {
   "cell_type": "code",
   "execution_count": null,
   "metadata": {},
   "outputs": [],
   "source": [
    "#####Coronavirus\n",
    "# Open/Create a file to append data\n",
    "\n",
    "csvFile = codecs.open('coronavirus.csv', 'w+','utf-8')\n",
    "#Use csv Writer\n",
    "csvWriter = csv.writer(csvFile,delimiter =' ', quotechar = ' ', quoting = csv.QUOTE_MINIMAL)\n",
    "\n",
    "for tweet in tweepy.Cursor(api.search,q=\"#coronavirus\",count=50,\n",
    "                           lang=\"en\",\n",
    "                           since=\"2017-04-03\").items(500):\n",
    "    print (tweet.created_at, tweet.text)\n",
    "    #unicodedata.normalize('NFKD', tweet.text).encode('ascii','ignore')\n",
    "    csvWriter.writerow([tweet.text])"
   ]
  },
  {
   "cell_type": "code",
   "execution_count": null,
   "metadata": {},
   "outputs": [],
   "source": [
    "#####IAcaucus\n",
    "# Open/Create a file to append data\n",
    "\n",
    "\n",
    "csvFile = codecs.open('IAcaucus.csv', 'w+','utf-8')\n",
    "#Use csv Writer\n",
    "csvWriter = csv.writer(csvFile,delimiter =' ', quotechar = ' ', quoting = csv.QUOTE_MINIMAL)\n",
    "\n",
    "for tweet in tweepy.Cursor(api.search,q=\"#IACaucus\",count=100,\n",
    "                           lang=\"en\",\n",
    "                           since=\"2017-04-03\").items():\n",
    "    print (tweet.created_at, tweet.text)\n",
    "    #unicodedata.normalize('NFKD', tweet.text).encode('ascii','ignore')\n",
    "    csvWriter.writerow([tweet.text])"
   ]
  }
 ],
 "metadata": {
  "kernelspec": {
   "display_name": "Python 3",
   "language": "python",
   "name": "python3"
  },
  "language_info": {
   "codemirror_mode": {
    "name": "ipython",
    "version": 3
   },
   "file_extension": ".py",
   "mimetype": "text/x-python",
   "name": "python",
   "nbconvert_exporter": "python",
   "pygments_lexer": "ipython3",
   "version": "3.7.5"
  }
 },
 "nbformat": 4,
 "nbformat_minor": 4
}
