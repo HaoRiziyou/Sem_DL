{
 "cells": [
  {
   "cell_type": "code",
   "execution_count": 1,
   "metadata": {},
   "outputs": [],
   "source": [
    "import pandas as pd\n",
    "import string\n",
    "import os\n",
    "from nltk.corpus import words as eng\n",
    "from nltk import word_tokenize"
   ]
  },
  {
   "cell_type": "code",
   "execution_count": 2,
   "metadata": {},
   "outputs": [],
   "source": [
    "csv_path = \"./short.csv\"\n",
    "txt_path = \"./tweets.txt\"\n",
    "dict_path = \"./tweet_word.vocab\""
   ]
  },
  {
   "cell_type": "code",
   "execution_count": 3,
   "metadata": {},
   "outputs": [],
   "source": [
    "data = pd.read_csv(csv_path)\n",
    "text = data.loc[:, 'text']\n",
    "word_list = [word_tokenize(text[i]) for i in range(len(text))]\n",
    "\n",
    "with open(txt_path, 'a') as file:\n",
    "    for i in range(len(text)):\n",
    "        line = ' '.join(word_list[i])\n",
    "        file.write(f'{line}\\n')"
   ]
  },
  {
   "cell_type": "code",
   "execution_count": 4,
   "metadata": {},
   "outputs": [
    {
     "name": "stdout",
     "output_type": "stream",
     "text": [
      "Now produce ./tweets.txt\n",
      "Get word_dict success: 6449 words\n",
      "build dict finished!\n"
     ]
    }
   ],
   "source": [
    "def buid_dict_file(file_list, dict_file, max_num=5):\n",
    "    word_dict = {}\n",
    "    for file in file_list:\n",
    "        print(\"Now produce %s\" % file)\n",
    "        with open(file, 'r') as f:\n",
    "            for ll in f:\n",
    "                words = ll.strip().split(' ')\n",
    "                for word in words:\n",
    "                    if word in word_dict:\n",
    "                        word_dict[word] += 1\n",
    "                    else:\n",
    "                        word_dict[word] = 1\n",
    "    print(\"Get word_dict success: {} words\".format(len(word_dict)))\n",
    "\n",
    "    word_dict_list = sorted(word_dict.items(), key=lambda d: d[1], reverse=True)\n",
    "    with open(dict_file, 'w') as f:\n",
    "        f.write(\"<PAD>\\n\")\n",
    "        f.write(\"<UNK>\\n\")\n",
    "        f.write(\"<EOS>\\n\")\n",
    "        f.write(\"<GO>\\n\")\n",
    "        _num = 0\n",
    "        for ii in word_dict_list:\n",
    "            _num = int(ii[1])\n",
    "            if _num < max_num:\n",
    "                break\n",
    "            # f.write(\"%s  %d\\n\" % (str(ii[0]), ii[1]))\n",
    "            f.write(f\"{str(ii[0])}\\n\")\n",
    "    print(\"build dict finished!\")\n",
    "    return\n",
    "\n",
    "file_list = [\"./tweets.txt\"]\n",
    "buid_dict_file(file_list, dict_path)"
   ]
  },
  {
   "cell_type": "code",
   "execution_count": 5,
   "metadata": {},
   "outputs": [
    {
     "name": "stdout",
     "output_type": "stream",
     "text": [
      "Load embedding success! Num: 398\n",
      "produce ./tweets.txt \n"
     ]
    },
    {
     "ename": "PermissionError",
     "evalue": "[Errno 13] Permission denied: '/tweets.id'",
     "output_type": "error",
     "traceback": [
      "\u001b[0;31m---------------------------------------------------------------------------\u001b[0m",
      "\u001b[0;31mPermissionError\u001b[0m                           Traceback (most recent call last)",
      "\u001b[0;32m<ipython-input-5-511656aaf625>\u001b[0m in \u001b[0;36m<module>\u001b[0;34m\u001b[0m\n\u001b[1;32m     31\u001b[0m \u001b[0;34m\u001b[0m\u001b[0m\n\u001b[1;32m     32\u001b[0m \u001b[0mword_dict\u001b[0m \u001b[0;34m=\u001b[0m \u001b[0mload_dic\u001b[0m\u001b[0;34m(\u001b[0m\u001b[0mdict_path\u001b[0m\u001b[0;34m)\u001b[0m\u001b[0;34m\u001b[0m\u001b[0;34m\u001b[0m\u001b[0m\n\u001b[0;32m---> 33\u001b[0;31m \u001b[0mbuild_id_file\u001b[0m\u001b[0;34m(\u001b[0m\u001b[0mword_dict\u001b[0m\u001b[0;34m,\u001b[0m \u001b[0mfile_list\u001b[0m\u001b[0;34m)\u001b[0m\u001b[0;34m\u001b[0m\u001b[0;34m\u001b[0m\u001b[0m\n\u001b[0m",
      "\u001b[0;32m<ipython-input-5-511656aaf625>\u001b[0m in \u001b[0;36mbuild_id_file\u001b[0;34m(word_dict, file_list)\u001b[0m\n\u001b[1;32m     15\u001b[0m         \u001b[0mprint\u001b[0m\u001b[0;34m(\u001b[0m\u001b[0;34m\"produce {} \"\u001b[0m\u001b[0;34m.\u001b[0m\u001b[0mformat\u001b[0m\u001b[0;34m(\u001b[0m\u001b[0mfile\u001b[0m\u001b[0;34m)\u001b[0m\u001b[0;34m)\u001b[0m\u001b[0;34m\u001b[0m\u001b[0;34m\u001b[0m\u001b[0m\n\u001b[1;32m     16\u001b[0m         \u001b[0mid_file\u001b[0m \u001b[0;34m=\u001b[0m \u001b[0mfile\u001b[0m\u001b[0;34m.\u001b[0m\u001b[0msplit\u001b[0m\u001b[0;34m(\u001b[0m\u001b[0;34m'.'\u001b[0m\u001b[0;34m)\u001b[0m\u001b[0;34m[\u001b[0m\u001b[0;36m1\u001b[0m\u001b[0;34m]\u001b[0m \u001b[0;34m+\u001b[0m \u001b[0;34m'.id'\u001b[0m\u001b[0;34m\u001b[0m\u001b[0;34m\u001b[0m\u001b[0m\n\u001b[0;32m---> 17\u001b[0;31m         \u001b[0;32mwith\u001b[0m \u001b[0mopen\u001b[0m\u001b[0;34m(\u001b[0m\u001b[0mid_file\u001b[0m\u001b[0;34m,\u001b[0m \u001b[0;34m'w'\u001b[0m\u001b[0;34m)\u001b[0m \u001b[0;32mas\u001b[0m \u001b[0mf_o\u001b[0m\u001b[0;34m:\u001b[0m\u001b[0;34m\u001b[0m\u001b[0;34m\u001b[0m\u001b[0m\n\u001b[0m\u001b[1;32m     18\u001b[0m             \u001b[0;32mwith\u001b[0m \u001b[0mopen\u001b[0m\u001b[0;34m(\u001b[0m\u001b[0mfile\u001b[0m\u001b[0;34m,\u001b[0m \u001b[0;34m'r'\u001b[0m\u001b[0;34m)\u001b[0m \u001b[0;32mas\u001b[0m \u001b[0mf_i\u001b[0m\u001b[0;34m:\u001b[0m\u001b[0;34m\u001b[0m\u001b[0;34m\u001b[0m\u001b[0m\n\u001b[1;32m     19\u001b[0m                 \u001b[0;32mfor\u001b[0m \u001b[0mline_text\u001b[0m \u001b[0;32min\u001b[0m \u001b[0mf_i\u001b[0m\u001b[0;34m:\u001b[0m\u001b[0;34m\u001b[0m\u001b[0;34m\u001b[0m\u001b[0m\n",
      "\u001b[0;31mPermissionError\u001b[0m: [Errno 13] Permission denied: '/tweets.id'"
     ]
    }
   ],
   "source": [
    "def load_dic(dic_file):\n",
    "    word_dict = {}\n",
    "    item = 0\n",
    "    with open(dic_file, 'r') as f:\n",
    "        lines = f.readlines()\n",
    "        for line in lines:\n",
    "            word = line.strip()\n",
    "            word_dict[word] = item\n",
    "            item += 1\n",
    "    print(\"Load embedding success! Num: {}\".format(len(word_dict)))\n",
    "    return word_dict\n",
    "\n",
    "def build_id_file(word_dict, file_list):\n",
    "    for file in file_list:\n",
    "        print(\"produce {} \".format(file))\n",
    "        id_file = file.split('.')[1] + '.id'\n",
    "        with open(id_file, 'w') as f_o:\n",
    "            with open(file, 'r') as f_i:\n",
    "                for line_text in f_i:\n",
    "                    line_o = []\n",
    "                    line_list = line_text.strip().split(' ')\n",
    "                    for word in line_list:\n",
    "                        if word in word_dict:\n",
    "                            line_o.append(word_dict[word])\n",
    "                        else:\n",
    "                            line_o.append(word_dict['<UNK>'])\n",
    "                    line_o = ' '.join([str(ii) for ii in line_o]) + '\\n'\n",
    "                    f_o.write(line_o)\n",
    "        print(\"build file {} success!\".format(id_file))\n",
    "    print(\"build id file finished!\")\n",
    "    \n",
    "word_dict = load_dic(dict_path)\n",
    "build_id_file(word_dict, file_list)"
   ]
  }
 ],
 "metadata": {
  "kernelspec": {
   "display_name": "Python 3",
   "language": "python",
   "name": "python3"
  },
  "language_info": {
   "codemirror_mode": {
    "name": "ipython",
    "version": 3
   },
   "file_extension": ".py",
   "mimetype": "text/x-python",
   "name": "python",
   "nbconvert_exporter": "python",
   "pygments_lexer": "ipython3",
   "version": "3.7.6"
  }
 },
 "nbformat": 4,
 "nbformat_minor": 4
}
