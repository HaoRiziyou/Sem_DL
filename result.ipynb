{
 "cells": [
  {
   "cell_type": "code",
   "execution_count": 1,
   "metadata": {},
   "outputs": [
    {
     "name": "stdout",
     "output_type": "stream",
     "text": [
      "Load embedding success! Num: 17520\n",
      "WARNING:tensorflow:From /home/pan/Sem_DL/generator.py:242: The name tf.random_normal is deprecated. Please use tf.random.normal instead.\n",
      "\n",
      "WARNING:tensorflow:From /home/pan/Sem_DL/generator.py:25: The name tf.variable_scope is deprecated. Please use tf.compat.v1.variable_scope instead.\n",
      "\n",
      "WARNING:tensorflow:From /home/pan/Sem_DL/generator.py:26: The name tf.placeholder is deprecated. Please use tf.compat.v1.placeholder instead.\n",
      "\n",
      "WARNING:tensorflow:\n",
      "The TensorFlow contrib module will not be included in TensorFlow 2.0.\n",
      "For more information, please see:\n",
      "  * https://github.com/tensorflow/community/blob/master/rfcs/20180907-contrib-sunset.md\n",
      "  * https://github.com/tensorflow/addons\n",
      "  * https://github.com/tensorflow/io (for I/O related ops)\n",
      "If you depend on functionality not listed there, please file an issue.\n",
      "\n",
      "WARNING:tensorflow:From /home/pan/Sem_DL/generator.py:92: The name tf.train.AdamOptimizer is deprecated. Please use tf.compat.v1.train.AdamOptimizer instead.\n",
      "\n",
      "WARNING:tensorflow:From /home/pan/Sem_DL/generator.py:106: The name tf.train.RMSPropOptimizer is deprecated. Please use tf.compat.v1.train.RMSPropOptimizer instead.\n",
      "\n",
      "WARNING:tensorflow:From /home/pan/Sem_DL/generator.py:202: The name tf.train.Saver is deprecated. Please use tf.compat.v1.train.Saver instead.\n",
      "\n",
      "WARNING:tensorflow:From /home/pan/Sem_DL/generator.py:202: The name tf.global_variables is deprecated. Please use tf.compat.v1.global_variables instead.\n",
      "\n",
      "WARNING:tensorflow:From run_generator.py:70: The name tf.ConfigProto is deprecated. Please use tf.compat.v1.ConfigProto instead.\n",
      "\n",
      "WARNING:tensorflow:From run_generator.py:72: The name tf.Session is deprecated. Please use tf.compat.v1.Session instead.\n",
      "\n",
      "2020-02-09 19:51:46.546392: I tensorflow/core/platform/cpu_feature_guard.cc:142] Your CPU supports instructions that this TensorFlow binary was not compiled to use: SSE4.1 SSE4.2\n",
      "2020-02-09 19:51:46.576457: I tensorflow/core/platform/profile_utils/cpu_utils.cc:94] CPU Frequency: 3213440000 Hz\n",
      "2020-02-09 19:51:46.576911: I tensorflow/compiler/xla/service/service.cc:168] XLA service 0x55c059910820 initialized for platform Host (this does not guarantee that XLA will be used). Devices:\n",
      "2020-02-09 19:51:46.576952: I tensorflow/compiler/xla/service/service.cc:176]   StreamExecutor device (0): Host, Default Version\n",
      "2020-02-09 19:51:46.578588: I tensorflow/stream_executor/platform/default/dso_loader.cc:44] Successfully opened dynamic library libcuda.so.1\n",
      "2020-02-09 19:51:46.609526: I tensorflow/stream_executor/cuda/cuda_gpu_executor.cc:983] successful NUMA node read from SysFS had negative value (-1), but there must be at least one NUMA node, so returning NUMA node zero\n",
      "2020-02-09 19:51:46.610422: I tensorflow/core/common_runtime/gpu/gpu_device.cc:1618] Found device 0 with properties: \n",
      "name: GeForce RTX 2070 major: 7 minor: 5 memoryClockRate(GHz): 1.62\n",
      "pciBusID: 0000:06:00.0\n",
      "2020-02-09 19:51:46.610873: I tensorflow/stream_executor/platform/default/dso_loader.cc:44] Successfully opened dynamic library libcudart.so.10.0\n",
      "2020-02-09 19:51:46.613553: I tensorflow/stream_executor/platform/default/dso_loader.cc:44] Successfully opened dynamic library libcublas.so.10.0\n",
      "2020-02-09 19:51:46.615276: I tensorflow/stream_executor/platform/default/dso_loader.cc:44] Successfully opened dynamic library libcufft.so.10.0\n",
      "2020-02-09 19:51:46.615771: I tensorflow/stream_executor/platform/default/dso_loader.cc:44] Successfully opened dynamic library libcurand.so.10.0\n",
      "2020-02-09 19:51:46.617688: I tensorflow/stream_executor/platform/default/dso_loader.cc:44] Successfully opened dynamic library libcusolver.so.10.0\n",
      "2020-02-09 19:51:46.619225: I tensorflow/stream_executor/platform/default/dso_loader.cc:44] Successfully opened dynamic library libcusparse.so.10.0\n",
      "2020-02-09 19:51:46.623654: I tensorflow/stream_executor/platform/default/dso_loader.cc:44] Successfully opened dynamic library libcudnn.so.7\n",
      "2020-02-09 19:51:46.623904: I tensorflow/stream_executor/cuda/cuda_gpu_executor.cc:983] successful NUMA node read from SysFS had negative value (-1), but there must be at least one NUMA node, so returning NUMA node zero\n",
      "2020-02-09 19:51:46.625010: I tensorflow/stream_executor/cuda/cuda_gpu_executor.cc:983] successful NUMA node read from SysFS had negative value (-1), but there must be at least one NUMA node, so returning NUMA node zero\n",
      "2020-02-09 19:51:46.625970: I tensorflow/core/common_runtime/gpu/gpu_device.cc:1746] Adding visible gpu devices: 0\n",
      "2020-02-09 19:51:46.626062: I tensorflow/stream_executor/platform/default/dso_loader.cc:44] Successfully opened dynamic library libcudart.so.10.0\n",
      "2020-02-09 19:51:46.891498: I tensorflow/core/common_runtime/gpu/gpu_device.cc:1159] Device interconnect StreamExecutor with strength 1 edge matrix:\n",
      "2020-02-09 19:51:46.891539: I tensorflow/core/common_runtime/gpu/gpu_device.cc:1165]      0 \n",
      "2020-02-09 19:51:46.891547: I tensorflow/core/common_runtime/gpu/gpu_device.cc:1178] 0:   N \n",
      "2020-02-09 19:51:46.891811: I tensorflow/stream_executor/cuda/cuda_gpu_executor.cc:983] successful NUMA node read from SysFS had negative value (-1), but there must be at least one NUMA node, so returning NUMA node zero\n",
      "2020-02-09 19:51:46.893424: I tensorflow/stream_executor/cuda/cuda_gpu_executor.cc:983] successful NUMA node read from SysFS had negative value (-1), but there must be at least one NUMA node, so returning NUMA node zero\n",
      "2020-02-09 19:51:46.895223: I tensorflow/stream_executor/cuda/cuda_gpu_executor.cc:983] successful NUMA node read from SysFS had negative value (-1), but there must be at least one NUMA node, so returning NUMA node zero\n",
      "2020-02-09 19:51:46.896767: I tensorflow/core/common_runtime/gpu/gpu_device.cc:1304] Created TensorFlow device (/job:localhost/replica:0/task:0/device:GPU:0 with 7436 MB memory) -> physical GPU (device: 0, name: GeForce RTX 2070, pci bus id: 0000:06:00.0, compute capability: 7.5)\n",
      "2020-02-09 19:51:46.900626: I tensorflow/compiler/xla/service/service.cc:168] XLA service 0x55c05b443890 initialized for platform CUDA (this does not guarantee that XLA will be used). Devices:\n",
      "2020-02-09 19:51:46.900685: I tensorflow/compiler/xla/service/service.cc:176]   StreamExecutor device (0): GeForce RTX 2070, Compute Capability 7.5\n",
      "WARNING:tensorflow:From run_generator.py:73: The name tf.global_variables_initializer is deprecated. Please use tf.compat.v1.global_variables_initializer instead.\n",
      "\n",
      "2020-02-09 19:51:48.471533: I tensorflow/stream_executor/platform/default/dso_loader.cc:44] Successfully opened dynamic library libcublas.so.10.0\n"
     ]
    }
   ],
   "source": [
    "!python run_generator.py"
   ]
  },
  {
   "cell_type": "code",
   "execution_count": 2,
   "metadata": {},
   "outputs": [
    {
     "name": "stdout",
     "output_type": "stream",
     "text": [
      "RT @ LyndaG1963 : 😂😂😂😂😂 this one day to depression # politics\n",
      "RT @ Taliesyne : Obamacare describes a lot !\n",
      "RT @ lewrockwell : 10 Out of means nice . Just Keep it . https : <UNK>\n",
      "<UNK> : <UNK> primary was a # <UNK> in the back\n",
      "RT @ klauseck : Wer we didn ’ t have transgender bathroom ever to soda after massive much <UNK> http : <UNK> http : <UNK>\n",
      "RT @ BlogOverwatch : Apple revenue rises shit , , I know about # <UNK> # <UNK> # MakeAmericaGreatAgain https : <UNK>\n",
      "RT @ DcStarlord my penis\n",
      "RT @ gloed_up : I survived missing a nice side machine after make one day at a time of the things I do n't feel\n",
      "RT @ bazedinburgh82 : A Police officers at the US elections months 's endless https : <UNK>\n",
      "RT @ Jarmadillos : The editing We 'll remind me forget to after the end\n",
      ". @ jadapsmith just put and KKK is giving wrong . – Jimmy Buffett in Obama https : <UNK>\n",
      "# MyEmmyNominationWouldBe best proposal ever\n",
      "RT @ jojokejohn move forward behind @ HuffPostPol\n",
      "Hair The Beef With my New Trailer Released . https : <UNK>\n",
      "RT @ <UNK> : Trump in for <UNK> landing . https : <UNK>\n",
      "RT @ <UNK> : # <UNK> is it . # <UNK>\n",
      "RT @ DRUDGE_REPORT : Donald backers go vote for Trump , but what 's the economy https : https : https : <UNK> https :\n",
      "RT @ blicqer : ▶ last second : rich ' am fine . In for Russian and remember the bullshit .\n",
      "# makemusicreligious My patriotic king sized bed this country ?\n",
      "Socialism is the truth would win .\n",
      "Hillary Clinton is # HillaryClinton the criminal gets every Percent # politics\n",
      "RT @ Freddiemaize : # IDontNeedACostumeBecause my heart is gone https : <UNK>\n",
      "RT @ pakalert : World War 3 Alert https : <UNK> https : <UNK>\n",
      "KKK is just big last # TexasJihad\n",
      "RT @ klauseck : 10 Ways to get over US report for Global https : <UNK> https : <UNK>\n",
      "RT @ DanaGeezus : An apple Kills = 9 Charged in Seattle # GiftIdeasForPoliticians\n",
      "We are so proud of terrorism is behind your time you got some fight for better people will cause this guy ! # HateCrime #\n",
      "RT @ Dreamweasel : Prepare my `` American # refugees in life hands into a man .\n",
      "RT @ <UNK> : # My2017Resolution is to the gym ... # music and its 1st day https : <UNK>\n",
      "# IHaveADreamThat taxes is theft\n",
      "RT @ TFCFan : # 2016In4WordsThe year of me\n",
      "RT @ <UNK> : # ThingsYouCantIgnore what type is trending . https : <UNK>\n",
      "RT @ FameOnYouBitch : # <UNK> Games # RejectedStatueOfLibertySigns\n",
      "We should take away with only one day\n",
      "RT @ SpecialAffair : # TopVideo California gives the difference between your stash and feels loved . # life # MyCampaignSlogan\n",
      "Trump vs. Clinton ’ s a new race https : https : <UNK> # politics\n",
      "# TopNews <UNK> , not can be guilty for themselves # IslamKills # Brussels ''\n",
      "# IdRunForPresidentIf it was n't a mess like this <UNK>\n",
      "RT @ ihatethemedia : I was my , different but something was n't born today , people with it too .\n",
      "RT @ alexjk : # ThingsMoreTrustedThanHillary A factory new dreams https : <UNK>\n",
      "RT @ <UNK> : Obama said but not this guy is paying attention # health\n",
      "RT @ blicqer : ▶ @ BlackAmericaWeb : Little Known Black History Fact : CNN and Clinton # ThingsThatShouldBeCensored\n",
      "RT @ LMBigSur : The 5 Lies : Ellen is a dude\n",
      "Banning It <UNK> to be hard ; Strong on Hillary Clinton # politics\n",
      "RT @ <UNK> : # MerryChristmas we reported at the stories https : <UNK> https : <UNK>\n",
      "Think about Tuesday , the right Act is so great .\n",
      "<UNK> this is the first president https : <UNK> https : <UNK>\n",
      "# ImTooOldFor My Own Good\n",
      "RT @ TimKcomic : Ending slavery , Betty White House '' # Merkel !\n",
      "RT @ : Give Me on me ? # MakeMeHateYouInOnePhrase\n",
      "RT @ <UNK> : All attacks what a @ HillaryClinton is here in a <UNK> PLEASE <UNK> TO ! http @ wikileaks # ReleaseClintonsMedicalRecords\n",
      "RT @ HeyHeyMissJ : # SextingWentWrongWhen like share your <UNK> of my life\n",
      "RT @ <UNK> : # MeanGirlsRules I am not your dogs https : <UNK>\n",
      "RT @ RealAlexJones : FBI warned his name has spent from child . https : <UNK>\n",
      "RT @ Stevens947 : <UNK> teeth for everyone around the summer ' https : <UNK> https : <UNK>\n",
      "RT @ <UNK> : # My2017BiggestHope\n",
      "Ihre Bescheidenheit steht außer Frage # Merkelmussbleiben\n",
      "RT @ wikileaks : President @ <UNK> https : <UNK>\n",
      "RT @ lewrockwell : I 'm still making over .\n",
      "Tucker\n",
      "RT @ <UNK> : <UNK> is not leading # Hillary was https : <UNK>\n",
      "RNC must block entrance\n",
      "RT @ <UNK> : Put with Donald Trump for the future leaks in Philadelphia and talks https : <UNK>\n",
      "RT @ TennConserv Your try by myself # CancelPlansIn5Words\n"
     ]
    }
   ],
   "source": [
    "!cat 'result.txt'"
   ]
  },
  {
   "cell_type": "code",
   "execution_count": 3,
   "metadata": {},
   "outputs": [
    {
     "name": "stdout",
     "output_type": "stream",
     "text": [
      "  File \"postGui.py\", line 1\n",
      "    <<<<<<< HEAD\n",
      "     ^\n",
      "SyntaxError: invalid syntax\n"
     ]
    }
   ],
   "source": [
    "!python postGui.py"
   ]
  }
 ],
 "metadata": {
  "kernelspec": {
   "display_name": "Python 3",
   "language": "python",
   "name": "python3"
  },
  "language_info": {
   "codemirror_mode": {
    "name": "ipython",
    "version": 3
   },
   "file_extension": ".py",
   "mimetype": "text/x-python",
   "name": "python",
   "nbconvert_exporter": "python",
   "pygments_lexer": "ipython3",
   "version": "3.7.6"
  }
 },
 "nbformat": 4,
 "nbformat_minor": 4
}
